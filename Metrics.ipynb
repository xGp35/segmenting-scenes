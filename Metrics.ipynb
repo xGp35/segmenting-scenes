{
 "cells": [
  {
   "cell_type": "code",
   "execution_count": 1,
   "metadata": {},
   "outputs": [],
   "source": [
    "def get_matched_pairs(true_events, events):\n",
    "    \n",
    "    def get_max_intersection(intersections):\n",
    "        mx = -1 #stores maximum intersection value\n",
    "        r = -1 #stores event with maximum intersection\n",
    "        for val in intersections.keys():\n",
    "            if intersections[val]>mx:\n",
    "                mx = intersections[val]\n",
    "                r = val\n",
    "            elif intersections[val] == mx:\n",
    "                r = -1 #if equal intersection then ignore\n",
    "        return r\n",
    "    \n",
    "    matched_pairs = list()\n",
    "#     get intersection of events in true events\n",
    "\n",
    "    strt = 0 #start of event\n",
    "    event_map_trueevent = dict() #final dict for events \n",
    "    for i, e in enumerate(events):\n",
    "        e_te = dict() #temporary dict for intersections\n",
    "        idx = 0\n",
    "        for j,te in enumerate(true_events):\n",
    "            if te<strt:\n",
    "                continue\n",
    "            elif te>e:\n",
    "                break\n",
    "            else:\n",
    "                e_te[j]=te-strt #get num of sentences of an event e in true event te\n",
    "                strt = te #define the new starting point as the ending point of previous true event\n",
    "                idx = j+1 #for final intersection\n",
    "        e_te[idx]=e-strt\n",
    "        event_map_trueevent[i] = get_max_intersection(e_te)\n",
    "        \n",
    "\n",
    "#     get intersection of true events in events\n",
    "\n",
    "    strt = 0 #start of event\n",
    "    trueevent_map_event = dict() #final dict for events \n",
    "    for i, te in enumerate(true_events):\n",
    "        te_e = dict() #temporary dict for intersections\n",
    "        idx = 0\n",
    "        for j,e in enumerate(events):\n",
    "            if e<strt:\n",
    "                continue\n",
    "            elif e>te:\n",
    "                break\n",
    "            else:\n",
    "                te_e[j]=e-strt #get num of sentences of an event e in true event te\n",
    "                strt = e #define the new starting point as the ending point of previous true event\n",
    "                idx = j+1 #for final intersection\n",
    "        te_e[idx]=te-strt\n",
    "        trueevent_map_event[i] = get_max_intersection(te_e)\n",
    "        \n",
    "    #print(\"1 \",event_map_trueevent,\"\\n2: \", trueevent_map_event)\n",
    "#         check for intersection in both mappings\n",
    "    for key in event_map_trueevent.keys():\n",
    "        te_key = event_map_trueevent[key] #get the matched true event for the event \"key\"\n",
    "        if te_key in trueevent_map_event:\n",
    "            if trueevent_map_event[te_key] == key:  #check if the true event is also matched to the same event\n",
    "                matched_pairs.append((key, te_key))\n",
    "    #print(\"\\n\",matched_pairs)\n",
    "    return matched_pairs\n",
    "    "
   ]
  },
  {
   "cell_type": "code",
   "execution_count": 2,
   "metadata": {},
   "outputs": [],
   "source": [
    "def IoU(true_events, events, total_sentences):\n",
    "    matched_pairs = get_matched_pairs(true_events, events)\n",
    "    total_ev_sentences = total_tev_sentences = set(range(total_sentences))\n",
    "    IoU = list()\n",
    "    for (ev, tev) in matched_pairs:\n",
    "#         get list of sentences for an event\n",
    "        if ev == 0:\n",
    "            ev_list = set(range(events[ev]))\n",
    "        else :\n",
    "            ev_list = set(range(events[ev-1], events[ev]))\n",
    "        if tev == 0:\n",
    "            tev_list = set(range(true_events[tev]))\n",
    "        else :\n",
    "            tev_list = set(range(true_events[tev-1], true_events[tev]))\n",
    "        inter = min(len(ev_list.intersection(tev_list)), len(tev_list.intersection(ev_list)))\n",
    "        union = len(ev_list.union(tev_list))\n",
    "        total_ev_sentences = total_ev_sentences.difference(ev_list)\n",
    "        total_tev_sentences = total_tev_sentences.difference(tev_list)\n",
    "        IoU.append(inter/union)\n",
    "    return sum(IoU)/(len(IoU))/(1+ (len(total_ev_sentences.intersection(total_tev_sentences))/total_sentences))"
   ]
  },
  {
   "cell_type": "code",
   "execution_count": 17,
   "metadata": {},
   "outputs": [],
   "source": [
    "sentences_list = [66,49,12,34,33,38,23,57,38,39,52,64]"
   ]
  },
  {
   "cell_type": "code",
   "execution_count": 8,
   "metadata": {},
   "outputs": [
    {
     "data": {
      "text/plain": [
       "0.4973913043478261"
      ]
     },
     "execution_count": 8,
     "metadata": {},
     "output_type": "execute_result"
    }
   ],
   "source": [
    "IoU([1,7,13,19,29,34,44,54], [1, 7, 17, 24, 48], 66)"
   ]
  },
  {
   "cell_type": "code",
   "execution_count": 10,
   "metadata": {},
   "outputs": [
    {
     "name": "stdout",
     "output_type": "stream",
     "text": [
      "Character Based\n",
      "0.5457908163265306 \n",
      "\n",
      "\n",
      "0.38633461047254153 \n",
      "\n",
      "\n",
      "0.6031073446327684 \n",
      "\n",
      "\n",
      "0.3564072093483858 \n",
      "\n",
      "\n",
      "0.6769230769230771 \n",
      "\n",
      "\n",
      "final_score =  0.5137126115406607\n"
     ]
    }
   ],
   "source": [
    "print(\"Character Based\")\n",
    "true_events = [[7,9,17,26,31,38,41,45,49,64,65], [1,7,13,19,29,34,44,54], [1,6,17,22,27,48], [2,9,11,13,24,33,48,58,60], [1,5,6,11]]\n",
    "events_generated = [[5, 9, 14, 21, 27, 32, 38, 45, 50, 59, 64],\n",
    " [9, 14, 43, 53],\n",
    " [6, 18, 23, 27, 36, 43, 47],\n",
    " [7, 13, 20, 35, 40, 45, 51, 56, 59],\n",
    " [6, 10]]\n",
    "Final_score = 0\n",
    "for i in range(len(true_events)):\n",
    "    Final_score += IoU(true_events[i], events_generated[i],sentences_list[i])\n",
    "    print(IoU(true_events[i], events_generated[i], sentences_list[i]),\"\\n\\n\")\n",
    "print(\"final_score = \", Final_score/5)"
   ]
  },
  {
   "cell_type": "code",
   "execution_count": 22,
   "metadata": {},
   "outputs": [
    {
     "name": "stdout",
     "output_type": "stream",
     "text": [
      "Character Based with exclusion\n",
      "0.6273589065255731 \n",
      "\n",
      "\n",
      "0.7097575757575759 \n",
      "\n",
      "\n",
      "0.35378510378510375 \n",
      "\n",
      "\n",
      "0.6769230769230771 \n",
      "\n",
      "\n",
      "final_score =  0.5919561657478325\n"
     ]
    }
   ],
   "source": [
    "print(\"Character Based with exclusion\")\n",
    "true_events = [[7,9,17,26,31,38,41,45,49,64,65], [1,7,13,19,29,34,44,54], [1,6,17,22,27,48], [2,9,11,13,24,33,48,58,60], [1,5,6,11]]\n",
    "events_generated =[[9, 27, 32, 38, 45, 50, 59, 64],\n",
    " [9, 14, 53],\n",
    " [6, 18, 23, 43],\n",
    " [7, 13, 35, 51, 59],\n",
    " [6, 10]]\n",
    "Final_score = 0\n",
    "for i in range(len(true_events)):\n",
    "    if i==1:\n",
    "        continue\n",
    "    Final_score += IoU(true_events[i], events_generated[i],sentences_list[i])\n",
    "    print(IoU(true_events[i], events_generated[i], sentences_list[i]),\"\\n\\n\")\n",
    "print(\"final_score = \", Final_score/4)"
   ]
  },
  {
   "cell_type": "code",
   "execution_count": 13,
   "metadata": {},
   "outputs": [
    {
     "name": "stdout",
     "output_type": "stream",
     "text": [
      "Location based without lemma\n",
      "0.5655102040816327 \n",
      "\n",
      "\n",
      "0.45833333333333326 \n",
      "\n",
      "\n",
      "0.6652932110274193 \n",
      "\n",
      "\n",
      "0.4685262185262185 \n",
      "\n",
      "\n",
      "0.6813186813186815 \n",
      "\n",
      "\n",
      "final_score =  0.5677963296574571\n"
     ]
    }
   ],
   "source": [
    "print(\"Location based without lemma\")\n",
    "true_events = [[7,9,17,26,31,38,41,45,49,64,65], [1,7,13,19,29,34,44,54], [1,6,17,22,27,48], [2,9,11,13,24,33,48,58,60], [1,5,6,11]]\n",
    "events_generated = [[6, 7, 8, 10, 15, 27, 30, 33, 46, 51, 62, 65], [1, 10, 11, 15, 17, 23, 28, 30, 54], [2, 8, 16, 18, 23, 25, 48], [9, 47, 56, 60], [1, 2, 4, 11]]\n",
    "Final_score = 0\n",
    "for i in range(len(true_events)):\n",
    "    Final_score += IoU(true_events[i], events_generated[i],sentences_list[i])\n",
    "    print(IoU(true_events[i], events_generated[i], sentences_list[i]),\"\\n\\n\")\n",
    "print(\"final_score = \", Final_score/5)"
   ]
  },
  {
   "cell_type": "code",
   "execution_count": 9,
   "metadata": {},
   "outputs": [
    {
     "data": {
      "text/plain": [
       "0.8490151515151517"
      ]
     },
     "execution_count": 9,
     "metadata": {},
     "output_type": "execute_result"
    }
   ],
   "source": [
    "IoU([1,6,17,22,27,48], [1, 7, 17, 24, 48], 49)"
   ]
  },
  {
   "cell_type": "code",
   "execution_count": 18,
   "metadata": {},
   "outputs": [
    {
     "name": "stdout",
     "output_type": "stream",
     "text": [
      "Location based without lemma with no split\n",
      "0.42366946778711484 \n",
      "\n",
      "\n",
      "0.6304166666666667 \n",
      "\n",
      "\n",
      "0.52730339447607 \n",
      "\n",
      "\n",
      "0.6813186813186815 \n",
      "\n",
      "\n",
      "final_score =  0.5656770525621333\n"
     ]
    }
   ],
   "source": [
    "print(\"Location based without lemma with no split\")\n",
    "true_events = [[7,9,17,26,31,38,41,45,49,64,65], [1,6,17,22,27,48], [2,9,11,13,24,33,48,58,60], [1,5,6,11]]\n",
    "events_generated =[[6, 7, 8, 10, 27, 33, 51, 62, 65], [2, 8, 18, 23, 48], [9, 60], [1, 2, 4, 11]]\n",
    "Final_score = 0\n",
    "for i in range(len(true_events)):\n",
    "    Final_score += IoU(true_events[i], events_generated[i],sentences_list[i])\n",
    "    print(IoU(true_events[i], events_generated[i], sentences_list[i]),\"\\n\\n\")\n",
    "print(\"final_score = \", Final_score/4)"
   ]
  },
  {
   "cell_type": "code",
   "execution_count": 19,
   "metadata": {},
   "outputs": [
    {
     "name": "stdout",
     "output_type": "stream",
     "text": [
      "Location based without lemma with no split idx change\n",
      "0.7148689326476859 \n",
      "\n",
      "\n",
      "0.8702068764568763 \n",
      "\n",
      "\n",
      "0.4698614557485525 \n",
      "\n",
      "\n",
      "0.65 \n",
      "\n",
      "\n",
      "final_score =  0.6762343162132787\n"
     ]
    }
   ],
   "source": [
    "print(\"Location based without lemma with no split idx change\")\n",
    "true_events = [[7,9,17,26,31,38,41,45,49,64,65], [1,6,17,22,27,48], [2,9,11,13,24,33,48,58,60], [1,5,6,11]]\n",
    "events_generated =[[5, 6, 7, 9, 26, 29, 32, 45, 50, 61, 64, 65], [1, 7, 17, 22, 24, 48], [8, 60], [0, 1, 3, 11]]\n",
    "Final_score = 0\n",
    "for i in range(len(true_events)):\n",
    "    Final_score += IoU(true_events[i], events_generated[i],sentences_list[i])\n",
    "    print(IoU(true_events[i], events_generated[i], sentences_list[i]),\"\\n\\n\")\n",
    "print(\"final_score = \", Final_score/len(true_events))"
   ]
  },
  {
   "cell_type": "code",
   "execution_count": 12,
   "metadata": {},
   "outputs": [
    {
     "name": "stdout",
     "output_type": "stream",
     "text": [
      "0.5655102040816327 \n",
      "\n",
      "\n",
      "0.45833333333333326 \n",
      "\n",
      "\n",
      "0.6652932110274193 \n",
      "\n",
      "\n",
      "0.4685262185262185 \n",
      "\n",
      "\n",
      "0.6813186813186815 \n",
      "\n",
      "\n",
      "final_score =  0.5677963296574571\n"
     ]
    }
   ],
   "source": [
    "\"Location based with Lemma\"\n",
    "true_events = [[7,9,17,26,31,38,41,45,49,64,65], [1,7,13,19,29,34,44,54], [1,6,17,22,27,48], [2,9,11,13,24,33,48,58,60], [1,5,6,11]]\n",
    "events_generated = [[6, 7, 8, 10, 15, 27, 30, 33, 46, 51, 62, 65], [1, 10, 11, 15, 17, 23, 28, 30, 54], [2, 8, 16, 18, 23, 25, 48], [9, 47, 56, 60], [1, 2, 4, 11]]\n",
    "Final_score = 0\n",
    "for i in range(len(true_events)):\n",
    "    Final_score += IoU(true_events[i], events_generated[i], sentences_list[i])\n",
    "    print(IoU(true_events[i], events_generated[i], sentences_list[i]),\"\\n\\n\")\n",
    "print(\"final_score = \", Final_score/5)"
   ]
  },
  {
   "cell_type": "code",
   "execution_count": 15,
   "metadata": {},
   "outputs": [
    {
     "name": "stdout",
     "output_type": "stream",
     "text": [
      "0.5655102040816327 \n",
      "\n",
      "\n",
      "0.45833333333333326 \n",
      "\n",
      "\n",
      "0.6652932110274193 \n",
      "\n",
      "\n",
      "0.5755005005005005 \n",
      "\n",
      "\n",
      "0.6813186813186815 \n",
      "\n",
      "\n",
      "final_score =  0.5891911860523135\n"
     ]
    }
   ],
   "source": [
    "\"Loaction and Time Based wo Lemma\"\n",
    "true_events = [[7,9,17,26,31,38,41,45,49,64,65], [1,7,13,19,29,34,44,54], [1,6,17,22,27,48], [2,9,11,13,24,33,48,58,60], [1,5,6,11]]\n",
    "events_generated = [[6, 7, 8, 10, 15, 27, 30, 33, 46, 51, 62, 65], [1, 10, 11, 15, 17, 23, 28, 30, 54], [2, 8, 16, 18, 23, 25, 48], [9, 24, 47, 56, 60], [1, 2, 4, 11]]\n",
    "Final_score = 0\n",
    "for i in range(len(true_events)):\n",
    "    Final_score += IoU(true_events[i], events_generated[i], sentences_list[i])\n",
    "    print(IoU(true_events[i], events_generated[i], sentences_list[i]),\"\\n\\n\")\n",
    "print(\"final_score = \", Final_score/5)"
   ]
  },
  {
   "cell_type": "code",
   "execution_count": 24,
   "metadata": {},
   "outputs": [
    {
     "name": "stdout",
     "output_type": "stream",
     "text": [
      "0.42366946778711484 \n",
      "\n",
      "\n",
      "0.5133117202082719 \n",
      "\n",
      "\n",
      "0.6304166666666667 \n",
      "\n",
      "\n",
      "0.6322281959378734 \n",
      "\n",
      "\n",
      "0.6813186813186815 \n",
      "\n",
      "\n",
      "final_score =  0.5761889463837216\n"
     ]
    }
   ],
   "source": [
    "\"Loaction and Time Based wo Lemma no split\"\n",
    "true_events = [[7,9,17,26,31,38,41,45,49,64,65], [1,7,13,19,29,34,44,54], [1,6,17,22,27,48], [2,9,11,13,24,33,48,58,60], [1,5,6,11]]\n",
    "events_generated = [[6, 7, 8, 10, 27, 33, 51, 62, 65], [1, 10, 11, 15, 17, 30, 54], [2, 8, 18, 23, 48], [9, 24, 60], [1, 2, 4, 11]]\n",
    "Final_score = 0\n",
    "for i in range(len(true_events)):\n",
    "    Final_score += IoU(true_events[i], events_generated[i], sentences_list[i])\n",
    "    print(IoU(true_events[i], events_generated[i], sentences_list[i]),\"\\n\\n\")\n",
    "print(\"final_score = \", Final_score/5)"
   ]
  },
  {
   "cell_type": "code",
   "execution_count": 16,
   "metadata": {},
   "outputs": [
    {
     "name": "stdout",
     "output_type": "stream",
     "text": [
      "0.5655102040816327 \n",
      "\n",
      "\n",
      "0.45833333333333326 \n",
      "\n",
      "\n",
      "0.6652932110274193 \n",
      "\n",
      "\n",
      "0.5755005005005005 \n",
      "\n",
      "\n",
      "0.6813186813186815 \n",
      "\n",
      "\n",
      "final_score =  0.5891911860523135\n"
     ]
    }
   ],
   "source": [
    "\"Loaction and Time Based with Lemma\"\n",
    "true_events = [[7,9,17,26,31,38,41,45,49,64,65], [1,7,13,19,29,34,44,54], [1,6,17,22,27,48], [2,9,11,13,24,33,48,58,60], [1,5,6,11]]\n",
    "events_generated = [[6, 7, 8, 10, 15, 27, 30, 33, 46, 51, 62, 65], [1, 10, 11, 15, 17, 23, 28, 30, 54], [2, 8, 16, 18, 23, 25, 48], [9, 24, 47, 56, 60], [1, 2, 4, 11]]\n",
    "Final_score = 0\n",
    "for i in range(len(true_events)):\n",
    "    Final_score += IoU(true_events[i], events_generated[i], sentences_list[i])\n",
    "    print(IoU(true_events[i], events_generated[i], sentences_list[i]),\"\\n\\n\")\n",
    "print(\"final_score = \", Final_score/5)"
   ]
  },
  {
   "cell_type": "code",
   "execution_count": 17,
   "metadata": {},
   "outputs": [
    {
     "name": "stdout",
     "output_type": "stream",
     "text": [
      "0.4171169559253295 \n",
      "\n",
      "\n",
      "0.3958375668901985 \n",
      "\n",
      "\n",
      "0.6541466346153847 \n",
      "\n",
      "\n",
      "0.5103267973856209 \n",
      "\n",
      "\n",
      "0.6923076923076924 \n",
      "\n",
      "\n",
      "final_score =  0.5339471294248452\n"
     ]
    }
   ],
   "source": [
    "\"Time Based wo Lemma\"\n",
    "true_events = [[7,9,17,26,31,38,41,45,49,64,65], [1,7,13,19,29,34,44,54], [1,6,17,22,27,48], [2,9,11,13,24,33,48,58,60], [1,5,6,11]]\n",
    "events_generated = [[1, 19, 28, 31, 41, 58, 65], [5, 7, 8, 17, 18, 37, 41, 43, 54], [2, 18, 20, 22, 48], [1, 2, 9, 17, 28, 33, 46, 60], [1, 11]]\n",
    "Final_score = 0\n",
    "for i in range(len(true_events)):\n",
    "    Final_score += IoU(true_events[i], events_generated[i], sentences_list[i])\n",
    "    print(IoU(true_events[i], events_generated[i], sentences_list[i]),\"\\n\\n\")\n",
    "print(\"final_score = \", Final_score/5)"
   ]
  },
  {
   "cell_type": "code",
   "execution_count": 18,
   "metadata": {},
   "outputs": [
    {
     "name": "stdout",
     "output_type": "stream",
     "text": [
      "0.4171169559253295 \n",
      "\n",
      "\n",
      "0.3958375668901985 \n",
      "\n",
      "\n",
      "0.6541466346153847 \n",
      "\n",
      "\n",
      "0.5103267973856209 \n",
      "\n",
      "\n",
      "0.6923076923076924 \n",
      "\n",
      "\n",
      "final_score =  0.5339471294248452\n"
     ]
    }
   ],
   "source": [
    "\"Time Based with Lemma\"\n",
    "true_events = [[7,9,17,26,31,38,41,45,49,64,65], [1,7,13,19,29,34,44,54], [1,6,17,22,27,48], [2,9,11,13,24,33,48,58,60], [1,5,6,11]]\n",
    "events_generated = [[1, 19, 28, 31, 41, 58, 65], [5, 7, 8, 17, 18, 37, 41, 43, 54], [2, 18, 20, 22, 48], [1, 2, 9, 17, 28, 33, 46, 60], [1, 11]]\n",
    "Final_score = 0\n",
    "for i in range(len(true_events)):\n",
    "    Final_score += IoU(true_events[i], events_generated[i], sentences_list[i])\n",
    "    print(IoU(true_events[i], events_generated[i], sentences_list[i]),\"\\n\\n\")\n",
    "print(\"final_score = \", Final_score/5)"
   ]
  },
  {
   "cell_type": "code",
   "execution_count": 3,
   "metadata": {},
   "outputs": [],
   "source": [
    "sentences_list = [66,49,12,34,33,38,23,57,38,39,52,64]"
   ]
  },
  {
   "cell_type": "code",
   "execution_count": null,
   "metadata": {},
   "outputs": [],
   "source": []
  }
 ],
 "metadata": {
  "kernelspec": {
   "display_name": "Python 3",
   "language": "python",
   "name": "python3"
  },
  "language_info": {
   "codemirror_mode": {
    "name": "ipython",
    "version": 3
   },
   "file_extension": ".py",
   "mimetype": "text/x-python",
   "name": "python",
   "nbconvert_exporter": "python",
   "pygments_lexer": "ipython3",
   "version": "3.6.12"
  }
 },
 "nbformat": 4,
 "nbformat_minor": 4
}
